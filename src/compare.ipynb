{
 "cells": [
  {
   "cell_type": "code",
   "execution_count": 1,
   "id": "f49d61b3",
   "metadata": {},
   "outputs": [],
   "source": [
    "import pandas as pd\n",
    "import numpy as np"
   ]
  },
  {
   "cell_type": "markdown",
   "id": "49d2f731",
   "metadata": {},
   "source": [
    "#### Data"
   ]
  },
  {
   "cell_type": "code",
   "execution_count": 2,
   "id": "236f409b",
   "metadata": {},
   "outputs": [
    {
     "data": {
      "text/html": [
       "<div>\n",
       "<style scoped>\n",
       "    .dataframe tbody tr th:only-of-type {\n",
       "        vertical-align: middle;\n",
       "    }\n",
       "\n",
       "    .dataframe tbody tr th {\n",
       "        vertical-align: top;\n",
       "    }\n",
       "\n",
       "    .dataframe thead th {\n",
       "        text-align: right;\n",
       "    }\n",
       "</style>\n",
       "<table border=\"1\" class=\"dataframe\">\n",
       "  <thead>\n",
       "    <tr style=\"text-align: right;\">\n",
       "      <th></th>\n",
       "      <th>kalimat</th>\n",
       "      <th>translated</th>\n",
       "    </tr>\n",
       "  </thead>\n",
       "  <tbody>\n",
       "    <tr>\n",
       "      <th>0</th>\n",
       "      <td>Saya telah mengikuti perkembangan beberapa har...</td>\n",
       "      <td>I have been following developments in recent d...</td>\n",
       "    </tr>\n",
       "    <tr>\n",
       "      <th>1</th>\n",
       "      <td>Juga ada peristiwa di mana seorang petugas men...</td>\n",
       "      <td>There was also an incident where an officer hi...</td>\n",
       "    </tr>\n",
       "    <tr>\n",
       "      <th>2</th>\n",
       "      <td>Atas nama pribadi dan Pemerintah Republik Indo...</td>\n",
       "      <td>On behalf of myself and the Government of the ...</td>\n",
       "    </tr>\n",
       "    <tr>\n",
       "      <th>3</th>\n",
       "      <td>Saya sangat prihatin dan sangat sedih terjadi ...</td>\n",
       "      <td>I am very concerned and very sad that this inc...</td>\n",
       "    </tr>\n",
       "    <tr>\n",
       "      <th>4</th>\n",
       "      <td>Pemerintah akan menjamin kehidupan keluarganya...</td>\n",
       "      <td>The government will guarantee the family's liv...</td>\n",
       "    </tr>\n",
       "  </tbody>\n",
       "</table>\n",
       "</div>"
      ],
      "text/plain": [
       "                                             kalimat  \\\n",
       "0  Saya telah mengikuti perkembangan beberapa har...   \n",
       "1  Juga ada peristiwa di mana seorang petugas men...   \n",
       "2  Atas nama pribadi dan Pemerintah Republik Indo...   \n",
       "3  Saya sangat prihatin dan sangat sedih terjadi ...   \n",
       "4  Pemerintah akan menjamin kehidupan keluarganya...   \n",
       "\n",
       "                                          translated  \n",
       "0  I have been following developments in recent d...  \n",
       "1  There was also an incident where an officer hi...  \n",
       "2  On behalf of myself and the Government of the ...  \n",
       "3  I am very concerned and very sad that this inc...  \n",
       "4  The government will guarantee the family's liv...  "
      ]
     },
     "execution_count": 2,
     "metadata": {},
     "output_type": "execute_result"
    }
   ],
   "source": [
    "data = pd.read_csv('../data/data.csv')\n",
    "data.head()"
   ]
  },
  {
   "cell_type": "code",
   "execution_count": 3,
   "id": "e418cc1d",
   "metadata": {},
   "outputs": [
    {
     "name": "stdout",
     "output_type": "stream",
     "text": [
      "<class 'pandas.core.frame.DataFrame'>\n",
      "RangeIndex: 23 entries, 0 to 22\n",
      "Data columns (total 2 columns):\n",
      " #   Column      Non-Null Count  Dtype \n",
      "---  ------      --------------  ----- \n",
      " 0   kalimat     23 non-null     object\n",
      " 1   translated  23 non-null     object\n",
      "dtypes: object(2)\n",
      "memory usage: 496.0+ bytes\n"
     ]
    }
   ],
   "source": [
    "data.info()"
   ]
  },
  {
   "cell_type": "code",
   "execution_count": 4,
   "id": "f249bc6e",
   "metadata": {},
   "outputs": [
    {
     "data": {
      "text/plain": [
       "'Saya telah mengikuti perkembangan beberapa hari ini, terutama peristiwa tadi malam, di mana terjadi demonstrasi yang mengarah kepada tindakan anarkis.'"
      ]
     },
     "execution_count": 4,
     "metadata": {},
     "output_type": "execute_result"
    }
   ],
   "source": [
    "data['kalimat'].iloc[0]"
   ]
  },
  {
   "cell_type": "code",
   "execution_count": 5,
   "id": "efc60bfc",
   "metadata": {},
   "outputs": [
    {
     "data": {
      "text/plain": [
       "\"I have been following developments in recent days, especially last night's incident, where a demonstration led to anarchic actions.\""
      ]
     },
     "execution_count": 5,
     "metadata": {},
     "output_type": "execute_result"
    }
   ],
   "source": [
    "data['translated'].iloc[0]"
   ]
  },
  {
   "cell_type": "markdown",
   "id": "ae9df246",
   "metadata": {},
   "source": [
    "#### Emotion (SenticNet English)"
   ]
  },
  {
   "cell_type": "code",
   "execution_count": 6,
   "id": "4f0f70c5",
   "metadata": {},
   "outputs": [],
   "source": [
    "from senticnet.senticnet import SenticNet"
   ]
  },
  {
   "cell_type": "code",
   "execution_count": 7,
   "id": "98e90049",
   "metadata": {},
   "outputs": [],
   "source": [
    "sn = SenticNet()"
   ]
  },
  {
   "cell_type": "code",
   "execution_count": 8,
   "id": "aee84b2d",
   "metadata": {},
   "outputs": [],
   "source": [
    "# Function to analyze emotion and polarity\n",
    "def analyze_emotion(text):\n",
    "    words = text.lower().split()\n",
    "    emotions = []\n",
    "    polarity = []\n",
    "    \n",
    "    for word in words:\n",
    "        try:\n",
    "            # Get emotion from SenticNet\n",
    "            polarity_value = float(sn.polarity_value(word))\n",
    "            moodtags = sn.moodtags(word)\n",
    "            emotions.extend(moodtags)\n",
    "            polarity.append(polarity_value)\n",
    "        except:\n",
    "            continue\n",
    "    \n",
    "    if polarity:\n",
    "        avg_polarity = sum(polarity) / len(polarity)\n",
    "    else:\n",
    "        avg_polarity = 0\n",
    "    \n",
    "    return {\n",
    "        \"emotions\": list(set(emotions)),   # Unique emotions\n",
    "        \"avg_polarity\": avg_polarity\n",
    "    }"
   ]
  },
  {
   "cell_type": "code",
   "execution_count": 9,
   "id": "623d700c",
   "metadata": {},
   "outputs": [],
   "source": [
    "data[\"analysis\"] = data[\"translated\"].apply(analyze_emotion)"
   ]
  },
  {
   "cell_type": "code",
   "execution_count": 10,
   "id": "78dbcee8",
   "metadata": {},
   "outputs": [
    {
     "data": {
      "text/plain": [
       "'Saya telah mengikuti perkembangan beberapa hari ini, terutama peristiwa tadi malam, di mana terjadi demonstrasi yang mengarah kepada tindakan anarkis.'"
      ]
     },
     "execution_count": 10,
     "metadata": {},
     "output_type": "execute_result"
    }
   ],
   "source": [
    "data['kalimat'].iloc[0]"
   ]
  },
  {
   "cell_type": "code",
   "execution_count": 11,
   "id": "f7128878",
   "metadata": {},
   "outputs": [
    {
     "data": {
      "text/plain": [
       "{'emotions': ['#eagerness', '#sadness', '#pleasantness', '#joy'],\n",
       " 'avg_polarity': 0.31}"
      ]
     },
     "execution_count": 11,
     "metadata": {},
     "output_type": "execute_result"
    }
   ],
   "source": [
    "data['analysis'].iloc[0]"
   ]
  },
  {
   "cell_type": "code",
   "execution_count": 12,
   "id": "dfca90fb",
   "metadata": {},
   "outputs": [],
   "source": [
    "# Extract emotions into a separate column\n",
    "data[\"emotions\"] = data[\"analysis\"].apply(lambda x: x[\"emotions\"])\n",
    "\n",
    "# Drop less common emotions\n",
    "data[\"emotions\"] = data[\"emotions\"].apply(lambda x: x[:2])"
   ]
  },
  {
   "cell_type": "code",
   "execution_count": 13,
   "id": "251199a7",
   "metadata": {},
   "outputs": [
    {
     "data": {
      "text/plain": [
       "['#eagerness', '#sadness']"
      ]
     },
     "execution_count": 13,
     "metadata": {},
     "output_type": "execute_result"
    }
   ],
   "source": [
    "data['emotions'].iloc[0]"
   ]
  },
  {
   "cell_type": "code",
   "execution_count": 14,
   "id": "357c28d4",
   "metadata": {},
   "outputs": [],
   "source": [
    "# Extract average polarity into a separate column\n",
    "data[\"avg_polarity\"] = data[\"analysis\"].apply(lambda x: x[\"avg_polarity\"])"
   ]
  },
  {
   "cell_type": "code",
   "execution_count": 15,
   "id": "243931d9",
   "metadata": {},
   "outputs": [
    {
     "data": {
      "text/plain": [
       "np.float64(0.31)"
      ]
     },
     "execution_count": 15,
     "metadata": {},
     "output_type": "execute_result"
    }
   ],
   "source": [
    "data['avg_polarity'].iloc[0]"
   ]
  },
  {
   "cell_type": "code",
   "execution_count": 16,
   "id": "e85604e8",
   "metadata": {},
   "outputs": [
    {
     "data": {
      "text/html": [
       "<div>\n",
       "<style scoped>\n",
       "    .dataframe tbody tr th:only-of-type {\n",
       "        vertical-align: middle;\n",
       "    }\n",
       "\n",
       "    .dataframe tbody tr th {\n",
       "        vertical-align: top;\n",
       "    }\n",
       "\n",
       "    .dataframe thead th {\n",
       "        text-align: right;\n",
       "    }\n",
       "</style>\n",
       "<table border=\"1\" class=\"dataframe\">\n",
       "  <thead>\n",
       "    <tr style=\"text-align: right;\">\n",
       "      <th></th>\n",
       "      <th>kalimat</th>\n",
       "      <th>translated</th>\n",
       "      <th>analysis</th>\n",
       "      <th>emotions</th>\n",
       "      <th>avg_polarity</th>\n",
       "    </tr>\n",
       "  </thead>\n",
       "  <tbody>\n",
       "    <tr>\n",
       "      <th>0</th>\n",
       "      <td>Saya telah mengikuti perkembangan beberapa har...</td>\n",
       "      <td>I have been following developments in recent d...</td>\n",
       "      <td>{'emotions': ['#eagerness', '#sadness', '#plea...</td>\n",
       "      <td>[#eagerness, #sadness]</td>\n",
       "      <td>0.3100</td>\n",
       "    </tr>\n",
       "    <tr>\n",
       "      <th>1</th>\n",
       "      <td>Juga ada peristiwa di mana seorang petugas men...</td>\n",
       "      <td>There was also an incident where an officer hi...</td>\n",
       "      <td>{'emotions': ['#sadness', '#joy', '#calmness',...</td>\n",
       "      <td>[#sadness, #joy]</td>\n",
       "      <td>0.4160</td>\n",
       "    </tr>\n",
       "    <tr>\n",
       "      <th>2</th>\n",
       "      <td>Atas nama pribadi dan Pemerintah Republik Indo...</td>\n",
       "      <td>On behalf of myself and the Government of the ...</td>\n",
       "      <td>{'emotions': ['#eagerness', '#pleasantness', '...</td>\n",
       "      <td>[#eagerness, #pleasantness]</td>\n",
       "      <td>0.8500</td>\n",
       "    </tr>\n",
       "    <tr>\n",
       "      <th>3</th>\n",
       "      <td>Saya sangat prihatin dan sangat sedih terjadi ...</td>\n",
       "      <td>I am very concerned and very sad that this inc...</td>\n",
       "      <td>{'emotions': ['#sadness', '#pleasantness'], 'a...</td>\n",
       "      <td>[#sadness, #pleasantness]</td>\n",
       "      <td>-0.6900</td>\n",
       "    </tr>\n",
       "    <tr>\n",
       "      <th>4</th>\n",
       "      <td>Pemerintah akan menjamin kehidupan keluarganya...</td>\n",
       "      <td>The government will guarantee the family's liv...</td>\n",
       "      <td>{'emotions': ['#calmness', '#eagerness', '#ple...</td>\n",
       "      <td>[#calmness, #eagerness]</td>\n",
       "      <td>0.7185</td>\n",
       "    </tr>\n",
       "  </tbody>\n",
       "</table>\n",
       "</div>"
      ],
      "text/plain": [
       "                                             kalimat  \\\n",
       "0  Saya telah mengikuti perkembangan beberapa har...   \n",
       "1  Juga ada peristiwa di mana seorang petugas men...   \n",
       "2  Atas nama pribadi dan Pemerintah Republik Indo...   \n",
       "3  Saya sangat prihatin dan sangat sedih terjadi ...   \n",
       "4  Pemerintah akan menjamin kehidupan keluarganya...   \n",
       "\n",
       "                                          translated  \\\n",
       "0  I have been following developments in recent d...   \n",
       "1  There was also an incident where an officer hi...   \n",
       "2  On behalf of myself and the Government of the ...   \n",
       "3  I am very concerned and very sad that this inc...   \n",
       "4  The government will guarantee the family's liv...   \n",
       "\n",
       "                                            analysis  \\\n",
       "0  {'emotions': ['#eagerness', '#sadness', '#plea...   \n",
       "1  {'emotions': ['#sadness', '#joy', '#calmness',...   \n",
       "2  {'emotions': ['#eagerness', '#pleasantness', '...   \n",
       "3  {'emotions': ['#sadness', '#pleasantness'], 'a...   \n",
       "4  {'emotions': ['#calmness', '#eagerness', '#ple...   \n",
       "\n",
       "                      emotions  avg_polarity  \n",
       "0       [#eagerness, #sadness]        0.3100  \n",
       "1             [#sadness, #joy]        0.4160  \n",
       "2  [#eagerness, #pleasantness]        0.8500  \n",
       "3    [#sadness, #pleasantness]       -0.6900  \n",
       "4      [#calmness, #eagerness]        0.7185  "
      ]
     },
     "execution_count": 16,
     "metadata": {},
     "output_type": "execute_result"
    }
   ],
   "source": [
    "data.head()"
   ]
  },
  {
   "cell_type": "markdown",
   "id": "72b83357",
   "metadata": {},
   "source": [
    "#### Indo SenticNet"
   ]
  },
  {
   "cell_type": "code",
   "execution_count": 17,
   "id": "c7b5fc53",
   "metadata": {},
   "outputs": [],
   "source": [
    "import string"
   ]
  },
  {
   "cell_type": "code",
   "execution_count": 18,
   "id": "95eeb222",
   "metadata": {},
   "outputs": [
    {
     "data": {
      "text/html": [
       "<div>\n",
       "<style scoped>\n",
       "    .dataframe tbody tr th:only-of-type {\n",
       "        vertical-align: middle;\n",
       "    }\n",
       "\n",
       "    .dataframe tbody tr th {\n",
       "        vertical-align: top;\n",
       "    }\n",
       "\n",
       "    .dataframe thead th {\n",
       "        text-align: right;\n",
       "    }\n",
       "</style>\n",
       "<table border=\"1\" class=\"dataframe\">\n",
       "  <thead>\n",
       "    <tr style=\"text-align: right;\">\n",
       "      <th></th>\n",
       "      <th>kalimat</th>\n",
       "      <th>translated</th>\n",
       "    </tr>\n",
       "  </thead>\n",
       "  <tbody>\n",
       "    <tr>\n",
       "      <th>0</th>\n",
       "      <td>Saya telah mengikuti perkembangan beberapa har...</td>\n",
       "      <td>I have been following developments in recent d...</td>\n",
       "    </tr>\n",
       "    <tr>\n",
       "      <th>1</th>\n",
       "      <td>Juga ada peristiwa di mana seorang petugas men...</td>\n",
       "      <td>There was also an incident where an officer hi...</td>\n",
       "    </tr>\n",
       "    <tr>\n",
       "      <th>2</th>\n",
       "      <td>Atas nama pribadi dan Pemerintah Republik Indo...</td>\n",
       "      <td>On behalf of myself and the Government of the ...</td>\n",
       "    </tr>\n",
       "    <tr>\n",
       "      <th>3</th>\n",
       "      <td>Saya sangat prihatin dan sangat sedih terjadi ...</td>\n",
       "      <td>I am very concerned and very sad that this inc...</td>\n",
       "    </tr>\n",
       "    <tr>\n",
       "      <th>4</th>\n",
       "      <td>Pemerintah akan menjamin kehidupan keluarganya...</td>\n",
       "      <td>The government will guarantee the family's liv...</td>\n",
       "    </tr>\n",
       "  </tbody>\n",
       "</table>\n",
       "</div>"
      ],
      "text/plain": [
       "                                             kalimat  \\\n",
       "0  Saya telah mengikuti perkembangan beberapa har...   \n",
       "1  Juga ada peristiwa di mana seorang petugas men...   \n",
       "2  Atas nama pribadi dan Pemerintah Republik Indo...   \n",
       "3  Saya sangat prihatin dan sangat sedih terjadi ...   \n",
       "4  Pemerintah akan menjamin kehidupan keluarganya...   \n",
       "\n",
       "                                          translated  \n",
       "0  I have been following developments in recent d...  \n",
       "1  There was also an incident where an officer hi...  \n",
       "2  On behalf of myself and the Government of the ...  \n",
       "3  I am very concerned and very sad that this inc...  \n",
       "4  The government will guarantee the family's liv...  "
      ]
     },
     "execution_count": 18,
     "metadata": {},
     "output_type": "execute_result"
    }
   ],
   "source": [
    "data = pd.read_csv('../data/data.csv')\n",
    "data.head()"
   ]
  },
  {
   "cell_type": "code",
   "execution_count": 19,
   "id": "d828c65a",
   "metadata": {},
   "outputs": [],
   "source": [
    "def preprocess(text):\n",
    "    # lowercase\n",
    "    text = text.lower()\n",
    "    # delete punctuation\n",
    "    text = text.translate(str.maketrans(\"\", \"\", string.punctuation))\n",
    "    # tokenize\n",
    "    tokens = text.split()\n",
    "    return tokens"
   ]
  },
  {
   "cell_type": "code",
   "execution_count": 20,
   "id": "cfa7cf1c",
   "metadata": {},
   "outputs": [
    {
     "data": {
      "text/html": [
       "<div>\n",
       "<style scoped>\n",
       "    .dataframe tbody tr th:only-of-type {\n",
       "        vertical-align: middle;\n",
       "    }\n",
       "\n",
       "    .dataframe tbody tr th {\n",
       "        vertical-align: top;\n",
       "    }\n",
       "\n",
       "    .dataframe thead th {\n",
       "        text-align: right;\n",
       "    }\n",
       "</style>\n",
       "<table border=\"1\" class=\"dataframe\">\n",
       "  <thead>\n",
       "    <tr style=\"text-align: right;\">\n",
       "      <th></th>\n",
       "      <th>CONCEPT</th>\n",
       "      <th>INTROSPECTION</th>\n",
       "      <th>TEMPER</th>\n",
       "      <th>ATTITUDE</th>\n",
       "      <th>SENSITIVITY</th>\n",
       "      <th>PRIMARY EMOTION</th>\n",
       "      <th>SECONDAY EMOTION</th>\n",
       "      <th>POLARITY VALUE</th>\n",
       "      <th>POLARITY INTENSITY</th>\n",
       "      <th>SEMANTICS</th>\n",
       "      <th>Unnamed: 10</th>\n",
       "      <th>Unnamed: 11</th>\n",
       "      <th>Unnamed: 12</th>\n",
       "      <th>Unnamed: 13</th>\n",
       "    </tr>\n",
       "  </thead>\n",
       "  <tbody>\n",
       "    <tr>\n",
       "      <th>0</th>\n",
       "      <td>aah</td>\n",
       "      <td>-0.56</td>\n",
       "      <td>0.0</td>\n",
       "      <td>0.000</td>\n",
       "      <td>0.000</td>\n",
       "      <td>#sadness</td>\n",
       "      <td>NaN</td>\n",
       "      <td>negative</td>\n",
       "      <td>-0.560</td>\n",
       "      <td>keawaman</td>\n",
       "      <td>barok</td>\n",
       "      <td>kecemasan_sebelumnya</td>\n",
       "      <td>kelas_komersial</td>\n",
       "      <td>tertutup</td>\n",
       "    </tr>\n",
       "    <tr>\n",
       "      <th>1</th>\n",
       "      <td>abadi</td>\n",
       "      <td>0.00</td>\n",
       "      <td>0.0</td>\n",
       "      <td>0.964</td>\n",
       "      <td>0.000</td>\n",
       "      <td>#delight</td>\n",
       "      <td>NaN</td>\n",
       "      <td>positive</td>\n",
       "      <td>0.964</td>\n",
       "      <td>istabraq</td>\n",
       "      <td>meluncur_ke_bawah</td>\n",
       "      <td>dari_yang_diperlukan</td>\n",
       "      <td>serpina</td>\n",
       "      <td>kurricule</td>\n",
       "    </tr>\n",
       "    <tr>\n",
       "      <th>2</th>\n",
       "      <td>abdominoplasti</td>\n",
       "      <td>0.00</td>\n",
       "      <td>0.0</td>\n",
       "      <td>0.290</td>\n",
       "      <td>0.000</td>\n",
       "      <td>#acceptance</td>\n",
       "      <td>NaN</td>\n",
       "      <td>positive</td>\n",
       "      <td>0.290</td>\n",
       "      <td>bersuku_kata_banyak</td>\n",
       "      <td>ketidakcocokan</td>\n",
       "      <td>jip</td>\n",
       "      <td>gaya_bebas</td>\n",
       "      <td>norelco</td>\n",
       "    </tr>\n",
       "    <tr>\n",
       "      <th>3</th>\n",
       "      <td>aberrate</td>\n",
       "      <td>0.00</td>\n",
       "      <td>0.0</td>\n",
       "      <td>-0.554</td>\n",
       "      <td>0.000</td>\n",
       "      <td>#disgust</td>\n",
       "      <td>NaN</td>\n",
       "      <td>negative</td>\n",
       "      <td>-0.554</td>\n",
       "      <td>rompakan_permata</td>\n",
       "      <td>tripoint</td>\n",
       "      <td>formasi</td>\n",
       "      <td>walsh</td>\n",
       "      <td>perang_salib</td>\n",
       "    </tr>\n",
       "    <tr>\n",
       "      <th>4</th>\n",
       "      <td>abey</td>\n",
       "      <td>0.00</td>\n",
       "      <td>0.0</td>\n",
       "      <td>0.000</td>\n",
       "      <td>-0.329</td>\n",
       "      <td>#anxiety</td>\n",
       "      <td>NaN</td>\n",
       "      <td>negative</td>\n",
       "      <td>-0.329</td>\n",
       "      <td>mengurangi</td>\n",
       "      <td>membasmi</td>\n",
       "      <td>loop_synth</td>\n",
       "      <td>pankreas</td>\n",
       "      <td>shabarisha</td>\n",
       "    </tr>\n",
       "  </tbody>\n",
       "</table>\n",
       "</div>"
      ],
      "text/plain": [
       "          CONCEPT  INTROSPECTION  TEMPER  ATTITUDE  SENSITIVITY  \\\n",
       "0             aah          -0.56     0.0     0.000        0.000   \n",
       "1           abadi           0.00     0.0     0.964        0.000   \n",
       "2  abdominoplasti           0.00     0.0     0.290        0.000   \n",
       "3        aberrate           0.00     0.0    -0.554        0.000   \n",
       "4            abey           0.00     0.0     0.000       -0.329   \n",
       "\n",
       "  PRIMARY EMOTION SECONDAY EMOTION POLARITY VALUE  POLARITY INTENSITY  \\\n",
       "0        #sadness              NaN       negative              -0.560   \n",
       "1        #delight              NaN       positive               0.964   \n",
       "2     #acceptance              NaN       positive               0.290   \n",
       "3        #disgust              NaN       negative              -0.554   \n",
       "4        #anxiety              NaN       negative              -0.329   \n",
       "\n",
       "             SEMANTICS        Unnamed: 10           Unnamed: 11  \\\n",
       "0             keawaman              barok  kecemasan_sebelumnya   \n",
       "1             istabraq  meluncur_ke_bawah  dari_yang_diperlukan   \n",
       "2  bersuku_kata_banyak     ketidakcocokan                   jip   \n",
       "3     rompakan_permata           tripoint               formasi   \n",
       "4           mengurangi           membasmi            loop_synth   \n",
       "\n",
       "       Unnamed: 12   Unnamed: 13  \n",
       "0  kelas_komersial      tertutup  \n",
       "1          serpina     kurricule  \n",
       "2       gaya_bebas       norelco  \n",
       "3            walsh  perang_salib  \n",
       "4         pankreas    shabarisha  "
      ]
     },
     "execution_count": 20,
     "metadata": {},
     "output_type": "execute_result"
    }
   ],
   "source": [
    "# load xlsx\n",
    "df = pd.read_excel(\"../data/senticnet.xlsx\")\n",
    "df.head()"
   ]
  },
  {
   "cell_type": "code",
   "execution_count": 21,
   "id": "c22d98c5",
   "metadata": {},
   "outputs": [],
   "source": [
    "# Dictionary\n",
    "polarity_dict = dict(zip(df[\"CONCEPT\"], df[\"POLARITY INTENSITY\"]))\n",
    "emotion_dict  = dict(zip(df[\"CONCEPT\"], df[\"PRIMARY EMOTION\"]))"
   ]
  },
  {
   "cell_type": "code",
   "execution_count": 22,
   "id": "156b157e",
   "metadata": {},
   "outputs": [],
   "source": [
    "# Function to map tokens to sentiment and emotions\n",
    "def map_sentiment(tokens):\n",
    "    polarities = []\n",
    "    emotions = []\n",
    "    for t in tokens:\n",
    "        if t in polarity_dict:\n",
    "            polarities.append(polarity_dict[t])\n",
    "        if t in emotion_dict:\n",
    "            emotions.append(emotion_dict[t])\n",
    "    # calculate average polarity\n",
    "    avg_polarity = sum(polarities)/len(polarities) if polarities else 0\n",
    "    \n",
    "    # set sentiment based on avg_polarity\n",
    "    if avg_polarity > 0.05:\n",
    "        sentiment = \"positive\"\n",
    "    elif avg_polarity < -0.05:\n",
    "        sentiment = \"negative\"\n",
    "    else:\n",
    "        sentiment = \"neutral\"\n",
    "    \n",
    "    return avg_polarity, emotions, sentiment"
   ]
  },
  {
   "cell_type": "code",
   "execution_count": 23,
   "id": "c690aa27",
   "metadata": {},
   "outputs": [
    {
     "data": {
      "text/html": [
       "<div>\n",
       "<style scoped>\n",
       "    .dataframe tbody tr th:only-of-type {\n",
       "        vertical-align: middle;\n",
       "    }\n",
       "\n",
       "    .dataframe tbody tr th {\n",
       "        vertical-align: top;\n",
       "    }\n",
       "\n",
       "    .dataframe thead th {\n",
       "        text-align: right;\n",
       "    }\n",
       "</style>\n",
       "<table border=\"1\" class=\"dataframe\">\n",
       "  <thead>\n",
       "    <tr style=\"text-align: right;\">\n",
       "      <th></th>\n",
       "      <th>kalimat</th>\n",
       "      <th>translated</th>\n",
       "      <th>tokens</th>\n",
       "    </tr>\n",
       "  </thead>\n",
       "  <tbody>\n",
       "    <tr>\n",
       "      <th>0</th>\n",
       "      <td>Saya telah mengikuti perkembangan beberapa har...</td>\n",
       "      <td>I have been following developments in recent d...</td>\n",
       "      <td>[saya, telah, mengikuti, perkembangan, beberap...</td>\n",
       "    </tr>\n",
       "    <tr>\n",
       "      <th>1</th>\n",
       "      <td>Juga ada peristiwa di mana seorang petugas men...</td>\n",
       "      <td>There was also an incident where an officer hi...</td>\n",
       "      <td>[juga, ada, peristiwa, di, mana, seorang, petu...</td>\n",
       "    </tr>\n",
       "    <tr>\n",
       "      <th>2</th>\n",
       "      <td>Atas nama pribadi dan Pemerintah Republik Indo...</td>\n",
       "      <td>On behalf of myself and the Government of the ...</td>\n",
       "      <td>[atas, nama, pribadi, dan, pemerintah, republi...</td>\n",
       "    </tr>\n",
       "    <tr>\n",
       "      <th>3</th>\n",
       "      <td>Saya sangat prihatin dan sangat sedih terjadi ...</td>\n",
       "      <td>I am very concerned and very sad that this inc...</td>\n",
       "      <td>[saya, sangat, prihatin, dan, sangat, sedih, t...</td>\n",
       "    </tr>\n",
       "    <tr>\n",
       "      <th>4</th>\n",
       "      <td>Pemerintah akan menjamin kehidupan keluarganya...</td>\n",
       "      <td>The government will guarantee the family's liv...</td>\n",
       "      <td>[pemerintah, akan, menjamin, kehidupan, keluar...</td>\n",
       "    </tr>\n",
       "  </tbody>\n",
       "</table>\n",
       "</div>"
      ],
      "text/plain": [
       "                                             kalimat  \\\n",
       "0  Saya telah mengikuti perkembangan beberapa har...   \n",
       "1  Juga ada peristiwa di mana seorang petugas men...   \n",
       "2  Atas nama pribadi dan Pemerintah Republik Indo...   \n",
       "3  Saya sangat prihatin dan sangat sedih terjadi ...   \n",
       "4  Pemerintah akan menjamin kehidupan keluarganya...   \n",
       "\n",
       "                                          translated  \\\n",
       "0  I have been following developments in recent d...   \n",
       "1  There was also an incident where an officer hi...   \n",
       "2  On behalf of myself and the Government of the ...   \n",
       "3  I am very concerned and very sad that this inc...   \n",
       "4  The government will guarantee the family's liv...   \n",
       "\n",
       "                                              tokens  \n",
       "0  [saya, telah, mengikuti, perkembangan, beberap...  \n",
       "1  [juga, ada, peristiwa, di, mana, seorang, petu...  \n",
       "2  [atas, nama, pribadi, dan, pemerintah, republi...  \n",
       "3  [saya, sangat, prihatin, dan, sangat, sedih, t...  \n",
       "4  [pemerintah, akan, menjamin, kehidupan, keluar...  "
      ]
     },
     "execution_count": 23,
     "metadata": {},
     "output_type": "execute_result"
    }
   ],
   "source": [
    "data[\"tokens\"] = data[\"kalimat\"].apply(preprocess)\n",
    "data.head()"
   ]
  },
  {
   "cell_type": "code",
   "execution_count": 24,
   "id": "2a965e1f",
   "metadata": {},
   "outputs": [
    {
     "data": {
      "text/plain": [
       "'Saya telah mengikuti perkembangan beberapa hari ini, terutama peristiwa tadi malam, di mana terjadi demonstrasi yang mengarah kepada tindakan anarkis.'"
      ]
     },
     "execution_count": 24,
     "metadata": {},
     "output_type": "execute_result"
    }
   ],
   "source": [
    "data['kalimat'].iloc[0]"
   ]
  },
  {
   "cell_type": "code",
   "execution_count": 25,
   "id": "04a0c58b",
   "metadata": {},
   "outputs": [
    {
     "data": {
      "text/plain": [
       "['saya',\n",
       " 'telah',\n",
       " 'mengikuti',\n",
       " 'perkembangan',\n",
       " 'beberapa',\n",
       " 'hari',\n",
       " 'ini',\n",
       " 'terutama',\n",
       " 'peristiwa',\n",
       " 'tadi',\n",
       " 'malam',\n",
       " 'di',\n",
       " 'mana',\n",
       " 'terjadi',\n",
       " 'demonstrasi',\n",
       " 'yang',\n",
       " 'mengarah',\n",
       " 'kepada',\n",
       " 'tindakan',\n",
       " 'anarkis']"
      ]
     },
     "execution_count": 25,
     "metadata": {},
     "output_type": "execute_result"
    }
   ],
   "source": [
    "data['tokens'].iloc[0]"
   ]
  },
  {
   "cell_type": "code",
   "execution_count": 26,
   "id": "470e912f",
   "metadata": {},
   "outputs": [],
   "source": [
    "# Apply the mapping function to get polarity, emotions and sentiment\n",
    "data[[\"avg_polarity\", \"emotions\", \"sentiment\"]] = data[\"tokens\"].apply(lambda x: pd.Series(map_sentiment(x)))\n",
    "\n",
    "# Drop less common emotions\n",
    "data[\"emotions\"] = data[\"emotions\"].apply(lambda x: x[:2])"
   ]
  },
  {
   "cell_type": "code",
   "execution_count": 27,
   "id": "6ca4d5f0",
   "metadata": {},
   "outputs": [
    {
     "data": {
      "text/html": [
       "<div>\n",
       "<style scoped>\n",
       "    .dataframe tbody tr th:only-of-type {\n",
       "        vertical-align: middle;\n",
       "    }\n",
       "\n",
       "    .dataframe tbody tr th {\n",
       "        vertical-align: top;\n",
       "    }\n",
       "\n",
       "    .dataframe thead th {\n",
       "        text-align: right;\n",
       "    }\n",
       "</style>\n",
       "<table border=\"1\" class=\"dataframe\">\n",
       "  <thead>\n",
       "    <tr style=\"text-align: right;\">\n",
       "      <th></th>\n",
       "      <th>kalimat</th>\n",
       "      <th>translated</th>\n",
       "      <th>tokens</th>\n",
       "      <th>avg_polarity</th>\n",
       "      <th>emotions</th>\n",
       "      <th>sentiment</th>\n",
       "    </tr>\n",
       "  </thead>\n",
       "  <tbody>\n",
       "    <tr>\n",
       "      <th>0</th>\n",
       "      <td>Saya telah mengikuti perkembangan beberapa har...</td>\n",
       "      <td>I have been following developments in recent d...</td>\n",
       "      <td>[saya, telah, mengikuti, perkembangan, beberap...</td>\n",
       "      <td>0.058857</td>\n",
       "      <td>[#dislike, #ecstasy]</td>\n",
       "      <td>positive</td>\n",
       "    </tr>\n",
       "    <tr>\n",
       "      <th>1</th>\n",
       "      <td>Juga ada peristiwa di mana seorang petugas men...</td>\n",
       "      <td>There was also an incident where an officer hi...</td>\n",
       "      <td>[juga, ada, peristiwa, di, mana, seorang, petu...</td>\n",
       "      <td>0.317857</td>\n",
       "      <td>[#pleasantness, #enthusiasm]</td>\n",
       "      <td>positive</td>\n",
       "    </tr>\n",
       "    <tr>\n",
       "      <th>2</th>\n",
       "      <td>Atas nama pribadi dan Pemerintah Republik Indo...</td>\n",
       "      <td>On behalf of myself and the Government of the ...</td>\n",
       "      <td>[atas, nama, pribadi, dan, pemerintah, republi...</td>\n",
       "      <td>0.161000</td>\n",
       "      <td>[#ecstasy, #rage]</td>\n",
       "      <td>positive</td>\n",
       "    </tr>\n",
       "    <tr>\n",
       "      <th>3</th>\n",
       "      <td>Saya sangat prihatin dan sangat sedih terjadi ...</td>\n",
       "      <td>I am very concerned and very sad that this inc...</td>\n",
       "      <td>[saya, sangat, prihatin, dan, sangat, sedih, t...</td>\n",
       "      <td>-0.494833</td>\n",
       "      <td>[#dislike, #grief]</td>\n",
       "      <td>negative</td>\n",
       "    </tr>\n",
       "    <tr>\n",
       "      <th>4</th>\n",
       "      <td>Pemerintah akan menjamin kehidupan keluarganya...</td>\n",
       "      <td>The government will guarantee the family's liv...</td>\n",
       "      <td>[pemerintah, akan, menjamin, kehidupan, keluar...</td>\n",
       "      <td>0.746167</td>\n",
       "      <td>[#delight, #acceptance]</td>\n",
       "      <td>positive</td>\n",
       "    </tr>\n",
       "  </tbody>\n",
       "</table>\n",
       "</div>"
      ],
      "text/plain": [
       "                                             kalimat  \\\n",
       "0  Saya telah mengikuti perkembangan beberapa har...   \n",
       "1  Juga ada peristiwa di mana seorang petugas men...   \n",
       "2  Atas nama pribadi dan Pemerintah Republik Indo...   \n",
       "3  Saya sangat prihatin dan sangat sedih terjadi ...   \n",
       "4  Pemerintah akan menjamin kehidupan keluarganya...   \n",
       "\n",
       "                                          translated  \\\n",
       "0  I have been following developments in recent d...   \n",
       "1  There was also an incident where an officer hi...   \n",
       "2  On behalf of myself and the Government of the ...   \n",
       "3  I am very concerned and very sad that this inc...   \n",
       "4  The government will guarantee the family's liv...   \n",
       "\n",
       "                                              tokens  avg_polarity  \\\n",
       "0  [saya, telah, mengikuti, perkembangan, beberap...      0.058857   \n",
       "1  [juga, ada, peristiwa, di, mana, seorang, petu...      0.317857   \n",
       "2  [atas, nama, pribadi, dan, pemerintah, republi...      0.161000   \n",
       "3  [saya, sangat, prihatin, dan, sangat, sedih, t...     -0.494833   \n",
       "4  [pemerintah, akan, menjamin, kehidupan, keluar...      0.746167   \n",
       "\n",
       "                       emotions sentiment  \n",
       "0          [#dislike, #ecstasy]  positive  \n",
       "1  [#pleasantness, #enthusiasm]  positive  \n",
       "2             [#ecstasy, #rage]  positive  \n",
       "3            [#dislike, #grief]  negative  \n",
       "4       [#delight, #acceptance]  positive  "
      ]
     },
     "execution_count": 27,
     "metadata": {},
     "output_type": "execute_result"
    }
   ],
   "source": [
    "data.head()"
   ]
  },
  {
   "cell_type": "code",
   "execution_count": 28,
   "id": "2b6d8915",
   "metadata": {},
   "outputs": [
    {
     "data": {
      "text/plain": [
       "['#dislike', '#ecstasy']"
      ]
     },
     "execution_count": 28,
     "metadata": {},
     "output_type": "execute_result"
    }
   ],
   "source": [
    "data['emotions'].iloc[0]"
   ]
  },
  {
   "cell_type": "code",
   "execution_count": 29,
   "id": "29638700",
   "metadata": {},
   "outputs": [
    {
     "data": {
      "text/plain": [
       "np.float64(0.05885714285714288)"
      ]
     },
     "execution_count": 29,
     "metadata": {},
     "output_type": "execute_result"
    }
   ],
   "source": [
    "data['avg_polarity'].iloc[0]"
   ]
  },
  {
   "cell_type": "code",
   "execution_count": 30,
   "id": "210aefe2",
   "metadata": {},
   "outputs": [
    {
     "data": {
      "text/plain": [
       "'positive'"
      ]
     },
     "execution_count": 30,
     "metadata": {},
     "output_type": "execute_result"
    }
   ],
   "source": [
    "data['sentiment'].iloc[0]"
   ]
  },
  {
   "cell_type": "markdown",
   "id": "21f206cf",
   "metadata": {},
   "source": [
    "#### Compare"
   ]
  },
  {
   "cell_type": "markdown",
   "id": "52c3c3a9",
   "metadata": {},
   "source": [
    "In the example sentence\n",
    "\n",
    "“Saya telah mengikuti perkembangan beberapa hari ini, terutama peristiwa tadi malam, di mana terjadi demonstrasi yang mengarah kepada tindakan anarkis.”, \n",
    "\n",
    "the Indo-based SenticNet approach produced dominant emotions such as #ecstasy and #dislike, which are less appropriate to the context since an anarchic demonstration should evoke negative emotions.\n",
    "\n",
    "In contrast, the English/translated SenticNet approach yielded emotions like #sadness and #eagerness, which better reflect the actual meaning of the sentence as they capture both the negative nuance and the emotional involvement in the event."
   ]
  }
 ],
 "metadata": {
  "kernelspec": {
   "display_name": "billy",
   "language": "python",
   "name": "python3"
  },
  "language_info": {
   "codemirror_mode": {
    "name": "ipython",
    "version": 3
   },
   "file_extension": ".py",
   "mimetype": "text/x-python",
   "name": "python",
   "nbconvert_exporter": "python",
   "pygments_lexer": "ipython3",
   "version": "3.10.16"
  }
 },
 "nbformat": 4,
 "nbformat_minor": 5
}
